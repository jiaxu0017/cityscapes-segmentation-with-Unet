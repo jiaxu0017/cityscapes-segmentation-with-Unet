{
 "cells": [
  {
   "cell_type": "code",
   "execution_count": 12,
   "metadata": {},
   "outputs": [],
   "source": [
    "import os\n",
    "import matplotlib.pyplot as plt\n",
    "import numpy as np\n",
    "from tensorflow.python.keras.preprocessing import image\n",
    "import Augmentor\n",
    "import tqdm"
   ]
  },
  {
   "cell_type": "code",
   "execution_count": 11,
   "metadata": {},
   "outputs": [
    {
     "name": "stdout",
     "output_type": "stream",
     "text": [
      "Number of images: 5000\n",
      "Number of masks: 5000\n",
      "aachen_000002_000019.png aachen_000002_000019.png\n"
     ]
    }
   ],
   "source": [
    "image_dir = 'dataset/images'\n",
    "mask_dir = 'dataset/masks'\n",
    "image_list = os.listdir(image_dir)\n",
    "mask_list = os.listdir(mask_dir)\n",
    "image_list.sort()\n",
    "mask_list.sort()\n",
    "print(f'Number of images: {len(image_list)}\\nNumber of masks: {len(mask_list)}')\n",
    "\n",
    "# sanity check\n",
    "for i in range(len(image_list)):\n",
    "    assert image_list[i] == mask_list[i]\n",
    "print(image_list[2], mask_list[2])    "
   ]
  },
  {
   "cell_type": "code",
   "execution_count": 18,
   "metadata": {},
   "outputs": [
    {
     "name": "stdout",
     "output_type": "stream",
     "text": [
      "Initialised with 5000 image(s) found.\n",
      "Output directory set to dataset/images/aug_dataset/images."
     ]
    }
   ],
   "source": [
    "p = Augmentor.Pipeline('dataset/images', output_directory='aug_dataset/images')"
   ]
  },
  {
   "cell_type": "code",
   "execution_count": null,
   "metadata": {},
   "outputs": [],
   "source": [
    "# for file in tqdm.tqdm(mask_list):\n",
    "#     os.rename(f'{mask_dir}/{file}', f'{mask_dir}/{file[:-20]}.png')"
   ]
  },
  {
   "cell_type": "code",
   "execution_count": 19,
   "metadata": {},
   "outputs": [
    {
     "name": "stderr",
     "output_type": "stream",
     "text": [
      "                                                         "
     ]
    },
    {
     "name": "stdout",
     "output_type": "stream",
     "text": [
      "5000 ground truth image(s) found.\n"
     ]
    },
    {
     "name": "stderr",
     "output_type": "stream",
     "text": []
    }
   ],
   "source": [
    "p.ground_truth('dataset/masks')\n",
    "p.rotate(probability=1, max_left_rotation=10, max_right_rotation=10)\n",
    "p.flip_left_right(probability=0.5)\n",
    "p.zoom_random(probability=0.5, percentage_area=0.8)\n",
    "p.skew(probability=0.5, magnitude=0.5)\n",
    "p.skew_tilt(probability=0.5, magnitude=0.5)\n",
    "p.random_distortion(probability=0.5,grid_height=4, grid_width=4, magnitude=4)\n",
    "p.shear(probability=0.5, max_shear_left=10, max_shear_right=10)\n",
    "p.gaussian_distortion(probability=0.5, corner='bell', method='in', grid_height=4, grid_width=4, magnitude=4)\n",
    "p.skew_top_bottom(probability=0.5, magnitude=.5)\n",
    "p.skew_left_right(probability=0.5, magnitude=.5)\n",
    "p.skew_corner(probability=0.5, magnitude=.5)\n",
    "p.resize(probability=1,width=256, height=256)"
   ]
  },
  {
   "cell_type": "code",
   "execution_count": null,
   "metadata": {},
   "outputs": [
    {
     "name": "stderr",
     "output_type": "stream",
     "text": [
      "Processing <PIL.Image.Image image mode=RGB size=256x256 at 0x7F17071DC908>:  21%|██        | 21053/100000 [1:34:38<8:31:14,  2.57 Samples/s]"
     ]
    }
   ],
   "source": [
    "p.sample(100000)"
   ]
  },
  {
   "cell_type": "code",
   "execution_count": null,
   "metadata": {},
   "outputs": [],
   "source": []
  }
 ],
 "metadata": {
  "kernelspec": {
   "display_name": "Python 3",
   "language": "python",
   "name": "python3"
  },
  "language_info": {
   "codemirror_mode": {
    "name": "ipython",
    "version": 3
   },
   "file_extension": ".py",
   "mimetype": "text/x-python",
   "name": "python",
   "nbconvert_exporter": "python",
   "pygments_lexer": "ipython3",
   "version": "3.6.5"
  }
 },
 "nbformat": 4,
 "nbformat_minor": 2
}
